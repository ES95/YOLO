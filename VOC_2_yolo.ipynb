{
 "cells": [
  {
   "cell_type": "code",
   "execution_count": 68,
   "metadata": {},
   "outputs": [],
   "source": [
    "import xml.etree.ElementTree as ET\n",
    "import os\n",
    "import re"
   ]
  },
  {
   "cell_type": "code",
   "execution_count": 69,
   "metadata": {},
   "outputs": [],
   "source": [
    "path='C:\\\\Users\\\\eklavya\\\\Desktop\\\\sa'\n",
    "#dir of xml\n",
    "txts=os.listdir(path)"
   ]
  },
  {
   "cell_type": "code",
   "execution_count": 19,
   "metadata": {},
   "outputs": [
    {
     "name": "stdout",
     "output_type": "stream",
     "text": [
      "<xml.etree.ElementTree.ElementTree object at 0x000001B5F69044E0>\n"
     ]
    }
   ],
   "source": [
    "for f_n in txts:\n",
    "    print( ET.parse(path+'New Folder\\\\'+f_n))"
   ]
  },
  {
   "cell_type": "code",
   "execution_count": 4,
   "metadata": {},
   "outputs": [],
   "source": [
    "#class labels\n",
    "lis=['alfa romeo','angel broking','bajaj dominar','Bio-Oil India','clarks','Dyson','fastrack','Hard rock cafe','Humber College'\n",
    "    ,'INFINITI','intel','jockey','lamborgini','livgard','ORRA Diamond Jewellery',\"PRAN Litchi Drink\",'Sequoia Capital',\n",
    "     'State Bank of India','subway','ucb',\"zurich insurance company\"]"
   ]
  },
  {
   "cell_type": "code",
   "execution_count": 13,
   "metadata": {},
   "outputs": [],
   "source": [
    "lisv=[]\n",
    "sec={"
   ]
  },
  {
   "cell_type": "code",
   "execution_count": 16,
   "metadata": {},
   "outputs": [],
   "source": [
    "unique_list = []     \n",
    "    # traverse for all elements \n",
    "for x in lisv: \n",
    "        # check if exists in unique_list or not \n",
    "        if x not in unique_list: \n",
    "            unique_list.append(x) "
   ]
  },
  {
   "cell_type": "code",
   "execution_count": 17,
   "metadata": {},
   "outputs": [
    {
     "data": {
      "text/plain": [
       "['alfa romeo',\n",
       " 'Allstate',\n",
       " 'angel broking',\n",
       " 'bajaj dominar',\n",
       " 'Bio Oil India',\n",
       " 'clarks',\n",
       " 'Dyson',\n",
       " 'fastrack',\n",
       " 'Hard rock cafe',\n",
       " 'Humber College',\n",
       " 'INFINITI',\n",
       " 'intel',\n",
       " 'jockey',\n",
       " 'lamborgini',\n",
       " 'livgard',\n",
       " 'ORRA Diamond Jewellery',\n",
       " 'PRAN Litchi Drink',\n",
       " 'Sequoia Capital',\n",
       " 'State Bank of India',\n",
       " 'subway',\n",
       " 'ucb',\n",
       " 'zurich insurance company']"
      ]
     },
     "execution_count": 17,
     "metadata": {},
     "output_type": "execute_result"
    }
   ],
   "source": [
    "unique_list"
   ]
  },
  {
   "cell_type": "code",
   "execution_count": 71,
   "metadata": {},
   "outputs": [],
   "source": [
    "\n",
    "# txts------->xml filenames\n",
    "for f_n in txts:\n",
    "#     f_n='246x0w.xml'\n",
    "   root = ET.parse(path+'\\\\'+f_n)\n",
    "   width=int(root.findall('size')[0].findtext('width'))\n",
    "   height=int(root.findall('size')[0].findtext('height'))\n",
    "   if width!=0 and height!=0:\n",
    "       n_txt_file=f_n.split('.xm')[0]+'.txt'\n",
    "       f=open('ab\\\\'+n_txt_file,'w+')\n",
    "       for i in root.findall('object'):\n",
    "           ind= 22#(unique_list.index(\" \".join(re.findall(\"[a-zA-Z]+\", (n_txt_file.split('.')[0])))))\n",
    "   #             print(i.findtext('name'),ind)\n",
    "#             elif i.findtext('name')=='Ferns_N_Petals_text':\n",
    "#                 ind=38\n",
    "   #             print(i.findtext('name'),ind)\n",
    "           for j in i.findall('bndbox'):\n",
    "               x_min=int(j.findtext('xmin'))\n",
    "               y_min=int(j.findtext('ymin'))\n",
    "               x_max=int(j.findtext('xmax'))\n",
    "               y_max=int(j.findtext('ymax'))\n",
    "               c_x=round((x_max+x_min)/(2*width),6)\n",
    "               c_y=round((y_max+y_min)/(2*height),6)\n",
    "               w=round((x_max-x_min)/width,6)\n",
    "               h=round((y_max-y_min)/height,6)\n",
    "               to_write=str(ind)+' '+str(c_x)+' '+str(c_y)+' '+str(w)+' '+str(h)+'\\n'\n",
    "   #             print(to_write)\n",
    "               f.write(to_write)\n",
    "       f.close()\n",
    "\n"
   ]
  },
  {
   "cell_type": "code",
   "execution_count": 57,
   "metadata": {},
   "outputs": [],
   "source": [
    "for l in unique_list:\n",
    "    os.mkdir('F:\\\\yolo\\\\'+l)"
   ]
  },
  {
   "cell_type": "code",
   "execution_count": 67,
   "metadata": {},
   "outputs": [],
   "source": [
    "from shutil import copy\n",
    "path='C:\\\\Users\\\\eklavya\\\\work_notebooks\\\\abcd'\n",
    "txts=os.listdir(path)\n",
    "txts\n",
    "for f_n in txts:\n",
    "    new=f_n.split('.')[0]+'.jpg'\n",
    "    di=''.join([i for i in f_n.split('.')[0] if not i.isdigit()])\n",
    "    copy( 'F:\\\\hh\\\\'+new,'F:\\\\yolo\\\\'+di)\n",
    "  \n",
    "#     try:\n",
    "#     # Create target Directory\n",
    "#         os.makedirs(path+di,exist_ok=True)\n",
    "#         print(\"Directory \" , path+di ,  \" Created \") \n",
    "#     except FileExistsError:\n",
    "#         print(\"Directory \" , path+di ,  \" already exists\")\n",
    "   "
   ]
  },
  {
   "cell_type": "code",
   "execution_count": null,
   "metadata": {},
   "outputs": [],
   "source": []
  }
 ],
 "metadata": {
  "kernelspec": {
   "display_name": "Python 3",
   "language": "python",
   "name": "python3"
  },
  "language_info": {
   "codemirror_mode": {
    "name": "ipython",
    "version": 3
   },
   "file_extension": ".py",
   "mimetype": "text/x-python",
   "name": "python",
   "nbconvert_exporter": "python",
   "pygments_lexer": "ipython3",
   "version": "3.7.1"
  }
 },
 "nbformat": 4,
 "nbformat_minor": 2
}
