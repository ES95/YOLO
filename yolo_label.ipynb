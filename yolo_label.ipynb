{
 "cells": [
  {
   "cell_type": "code",
   "execution_count": 3,
   "metadata": {},
   "outputs": [],
   "source": [
    "import os"
   ]
  },
  {
   "cell_type": "code",
   "execution_count": 1,
   "metadata": {},
   "outputs": [],
   "source": [
    "f=open('labels.txt').readlines()"
   ]
  },
  {
   "cell_type": "code",
   "execution_count": 18,
   "metadata": {
    "scrolled": false
   },
   "outputs": [],
   "source": [
    "dic={}\n",
    "for i,file in enumerate(f):\n",
    "    dic[file]=i"
   ]
  },
  {
   "cell_type": "code",
   "execution_count": 30,
   "metadata": {},
   "outputs": [
    {
     "data": {
      "text/plain": [
       "{'SamsungIndia\\n': 0,\n",
       " 'lg_india\\n': 1,\n",
       " 'HyundaiIndia\\n': 2,\n",
       " 'Hyundai_text\\n': 3,\n",
       " 'Xbox\\n': 4,\n",
       " 'Xbox_text\\n': 5,\n",
       " 'Amazon_India\\n': 6,\n",
       " 'airtel_logo\\n': 7,\n",
       " 'airtel_text\\n': 8,\n",
       " 'Garnier_India\\n': 9,\n",
       " 'Garnier_text\\n': 10,\n",
       " 'Honda_2_Wheelers_India\\n': 11,\n",
       " 'Honda_2_Wheelers_India_text\\n': 12,\n",
       " 'H&M\\n': 13,\n",
       " 'Oreo_India\\n': 14,\n",
       " 'Netflix\\n': 15,\n",
       " 'Netflix_text\\n': 16,\n",
       " 'Uber_India\\n': 17,\n",
       " 'Uber_text\\n': 18,\n",
       " 'loreal\\n': 19,\n",
       " 'sony\\n': 20,\n",
       " 'KFC_India_text\\n': 21,\n",
       " 'KFC_India_logo\\n': 22,\n",
       " 'Axis_Bank\\n': 23,\n",
       " 'KIT_KAT\\n': 24,\n",
       " 'Kelloggs_India\\n': 25,\n",
       " 'pepsiindia_logo\\n': 26,\n",
       " 'pepsiindia_text\\n': 27,\n",
       " 'Horlicks_IN\\n': 28,\n",
       " 'HDFC_Life_logo\\n': 29,\n",
       " 'HDFC_Life_text\\n': 30,\n",
       " 'Max_Fashions\\n': 31,\n",
       " 'Cadbury\\n': 32,\n",
       " 'MountainDewIndia\\n': 33,\n",
       " 'Tata_Sky\\n': 34,\n",
       " 'Lenovo_India\\n': 35,\n",
       " 'ThumsUpOfficial\\n': 36,\n",
       " 'maybelline\\n': 37,\n",
       " 'mac\\n': 38,\n",
       " 'nerolac\\n': 39,\n",
       " 'kwality\\n': 40,\n",
       " 'nykaa\\n': 41,\n",
       " 'bbfood\\n': 42,\n",
       " 'amul\\n': 43,\n",
       " 'hdfc_logo\\n': 44,\n",
       " 'hdfc_text\\n': 45,\n",
       " 'pepsodent\\n': 46,\n",
       " 'spicejet\\n': 47,\n",
       " 'LivonSerum\\n': 48,\n",
       " 'RoyalEnfield_logo\\n': 49,\n",
       " 'RoyalEnfield_text\\n': 50,\n",
       " 'iciciLombard\\n': 51,\n",
       " 'ajio_logo\\n': 52,\n",
       " 'ajio_text\\n': 53,\n",
       " 'kingfisher_logo\\n': 54,\n",
       " 'kingfisher_text\\n': 55,\n",
       " 'ching\\n': 56,\n",
       " 'nissan\\n': 57,\n",
       " 'yamaha\\n': 58,\n",
       " 'yamaha_txt\\n': 59,\n",
       " 'asus\\n': 60,\n",
       " 'sunsilk\\n': 61,\n",
       " 'knorr\\n': 62,\n",
       " 'cardekho\\n': 63,\n",
       " 'cardekho_txt\\n': 64,\n",
       " 'veet\\n': 65,\n",
       " 'fair&lovely\\n': 66,\n",
       " 'cadburybournville\\n': 67,\n",
       " 'mirinda\\n': 68,\n",
       " 'garniermen\\n': 69,\n",
       " 'paytm\\n': 70,\n",
       " 'paytm_txt\\n': 71,\n",
       " 'eurekaforbes\\n': 72,\n",
       " 'eurekaforbes_txt\\n': 73,\n",
       " 'reliancefresh\\n': 74,\n",
       " 'vanheusen\\n': 75,\n",
       " 'vanheusen-txt\\n': 76,\n",
       " 'Aditya-Birla-Capital\\n': 77,\n",
       " 'Aditya-birla-txt\\n': 78,\n",
       " 'bookmyshow_logo\\n': 79,\n",
       " 'bookmyshow_txt\\n': 80,\n",
       " 'Manyavar_logo\\n': 81,\n",
       " 'Manyavar_txt\\n': 82,\n",
       " 'lenskart_logo\\n': 83,\n",
       " 'lenskart_txt\\n': 84,\n",
       " 'urbanclap_logo\\n': 85,\n",
       " 'urbanclap_txt\\n': 86,\n",
       " 'philipsindia_logo\\n': 87,\n",
       " 'philipsindia_txt\\n': 88,\n",
       " 'Peter_England\\n': 89,\n",
       " 'Havells_India\\n': 90,\n",
       " 'Havells_India_txt\\n': 91,\n",
       " 'TanishqJewellery_logo\\n': 92,\n",
       " 'TanishqJewellery_txt\\n': 93,\n",
       " 'Amazon_Fire\\n': 94,\n",
       " 'Raymond_Ltd.\\n': 95,\n",
       " 'Forever_21\\n': 96,\n",
       " 'NestlÃ©_India_logo\\n': 97,\n",
       " 'NestlÃ©_India_txt\\n': 98,\n",
       " 'lava\\n': 99,\n",
       " 'yippee\\n': 100,\n",
       " 'Kinder_India_text\\n': 101,\n",
       " 'Vicks_India_logo\\n': 102,\n",
       " 'Mahindra_XUV500_logo\\n': 103,\n",
       " 'Mahindra_XUV500_text\\n': 104,\n",
       " 'MaazaOfficial_text\\n': 105,\n",
       " 'Tropicana_India_text\\n': 106,\n",
       " 'Bisleri_India_text\\n': 107,\n",
       " 'fbb_text\\n': 108,\n",
       " 'PanasonicIn_text\\n': 109,\n",
       " 'kurkure_text\\n': 110,\n",
       " '7UP_India_logo\\n': 111,\n",
       " 'Quikr_text\\n': 112,\n",
       " 'Mercedes-Benz_India_logo\\n': 113,\n",
       " 'TATA_Sampann_text\\n': 114,\n",
       " 'bajaj\\n': 115,\n",
       " 'bajaj-txt\\n': 116,\n",
       " 'apache\\n': 117,\n",
       " 'Audi\\n': 118,\n",
       " 'oyo\\n': 119,\n",
       " 'oyo-txt\\n': 120,\n",
       " 'icici\\n': 121,\n",
       " 'snickers\\n': 122,\n",
       " 'budweiser\\n': 123,\n",
       " 'frooti\\n': 124,\n",
       " 'policybazaar\\n': 125,\n",
       " 'nestle_milkmaid\\n': 126,\n",
       " 'titan\\n': 127,\n",
       " 'american-tourister\\n': 128,\n",
       " 'center-fresh\\n': 129,\n",
       " 'jeevansathi\\n': 130,\n",
       " 'pureiit\\n': 131,\n",
       " 'cadbury-celebrations\\n': 132}"
      ]
     },
     "execution_count": 30,
     "metadata": {},
     "output_type": "execute_result"
    }
   ],
   "source": [
    "dic"
   ]
  },
  {
   "cell_type": "code",
   "execution_count": 80,
   "metadata": {},
   "outputs": [
    {
     "data": {
      "text/plain": [
       "['axis_bank',\n",
       " 'cadbury',\n",
       " 'hdfc',\n",
       " 'horlicks',\n",
       " 'kelloggs',\n",
       " 'kfc',\n",
       " 'kit_kat',\n",
       " 'lenovo',\n",
       " 'max',\n",
       " 'mountaindew',\n",
       " 'pepsiindia',\n",
       " 'tata_sky',\n",
       " 'thumsup']"
      ]
     },
     "execution_count": 80,
     "metadata": {},
     "output_type": "execute_result"
    }
   ],
   "source": [
    "os.listdir('annotations')"
   ]
  },
  {
   "cell_type": "code",
   "execution_count": 81,
   "metadata": {},
   "outputs": [],
   "source": [
    "dic2={}\n",
    "for annos in os.listdir('annotations/'):\n",
    "    ind=0\n",
    "    for logo,cls in dic.items():\n",
    "        if annos in logo.lower():\n",
    "            if ind==1:\n",
    "                an=annos+\"_text\"\n",
    "            elif ind==0:\n",
    "                an=annos+'_logo'\n",
    "            dic2[an]=cls\n",
    "            ind=1"
   ]
  },
  {
   "cell_type": "code",
   "execution_count": 82,
   "metadata": {},
   "outputs": [
    {
     "data": {
      "text/plain": [
       "132"
      ]
     },
     "execution_count": 82,
     "metadata": {},
     "output_type": "execute_result"
    }
   ],
   "source": [
    "dic2.pop('cadbury_text', 132)"
   ]
  },
  {
   "cell_type": "code",
   "execution_count": 83,
   "metadata": {},
   "outputs": [
    {
     "data": {
      "text/plain": [
       "{'axis_bank_logo': 23,\n",
       " 'cadbury_logo': 32,\n",
       " 'hdfc_life_logo': 29,\n",
       " 'hdfc_life_text': 30,\n",
       " 'horlicks_logo': 28,\n",
       " 'kelloggs_logo': 25,\n",
       " 'kfc_logo': 21,\n",
       " 'kfc_text': 22,\n",
       " 'kit_kat_logo': 24,\n",
       " 'lenovo_logo': 35,\n",
       " 'max_logo': 31,\n",
       " 'mountaindew_logo': 33,\n",
       " 'pepsiindia_logo': 26,\n",
       " 'pepsiindia_text': 27,\n",
       " 'tata_sky_logo': 34,\n",
       " 'thumsup_logo': 36}"
      ]
     },
     "execution_count": 83,
     "metadata": {},
     "output_type": "execute_result"
    }
   ],
   "source": [
    "dic2"
   ]
  },
  {
   "cell_type": "code",
   "execution_count": 84,
   "metadata": {},
   "outputs": [],
   "source": [
    "dic2['axis_bank_text']=200"
   ]
  },
  {
   "cell_type": "code",
   "execution_count": 86,
   "metadata": {
    "scrolled": true
   },
   "outputs": [],
   "source": [
    "for fol in os.listdir('annotations/'):\n",
    "    for file in os.listdir('annotations/'+fol):\n",
    "        f1=open('annotations/'+fol+'/'+file).readlines()\n",
    "        if fol=='kfc':\n",
    "            f2=[]\n",
    "            for i in f1:\n",
    "                if '1 ' in i:\n",
    "                    f2.append(i.replace('1 ',str(dic2[fol+'_logo'])+' '))\n",
    "                elif '0 ' in i:\n",
    "                    f2.append(i.replace('0 ',str(dic2[fol+'_text'])+' '))\n",
    "            with open('annotations_new/'+fol+'/'+file, 'w') as f:\n",
    "                for item in f2:\n",
    "                    f.write(\"%s\" % item)\n",
    "        elif fol in ['axis_bank','pepsiindia','hdfc_life']:\n",
    "            f2=[]\n",
    "            for i in f1:\n",
    "                if '1 ' in i:\n",
    "                    f2.append(i.replace('1 ',str(dic2[fol+'_text'])+' '))\n",
    "                elif '0 ' in i:\n",
    "                    f2.append(i.replace('0 ',str(dic2[fol+'_logo'])+' '))\n",
    "            with open('annotations_new/'+fol+'/'+file, 'w') as f:\n",
    "                for item in f2:\n",
    "                    f.write(\"%s\" % item)\n",
    "        else:\n",
    "            f2=[]\n",
    "            for i in f1:\n",
    "#                 if '1 ' in i:\n",
    "#                     f2.append(i.replace('1 ',str(dic2[fol+'_text'])+' '))\n",
    "#                 elif '0 ' in i:\n",
    "                to_rep=i[:2]\n",
    "                f2.append(i.replace(to_rep,str(dic2[fol+'_logo'])+' '))\n",
    "            with open('annotations_new/'+fol+'/'+file, 'w') as f:\n",
    "                for item in f2:\n",
    "                    f.write(\"%s\" % item)\n",
    "#             break"
   ]
  },
  {
   "cell_type": "code",
   "execution_count": 68,
   "metadata": {},
   "outputs": [
    {
     "data": {
      "text/plain": [
       "['.ipynb_checkpoints',\n",
       " 'annotations',\n",
       " 'annotations_new',\n",
       " 'Axis Bank',\n",
       " 'Cadbury',\n",
       " 'HDFC Life',\n",
       " 'Horlicks IN',\n",
       " \"Kellogg's India\",\n",
       " 'KFC India',\n",
       " 'KIT KAT',\n",
       " 'labels.txt',\n",
       " 'Lenovo India',\n",
       " 'Max Fashions',\n",
       " 'MountainDewIndia',\n",
       " 'pepsiindia',\n",
       " 'Tata Sky',\n",
       " 'ThumsUpOfficial',\n",
       " 'Untitled.ipynb']"
      ]
     },
     "execution_count": 68,
     "metadata": {},
     "output_type": "execute_result"
    }
   ],
   "source": [
    "os.listdir()"
   ]
  },
  {
   "cell_type": "code",
   "execution_count": 59,
   "metadata": {},
   "outputs": [
    {
     "data": {
      "text/plain": [
       "'33333'"
      ]
     },
     "execution_count": 59,
     "metadata": {},
     "output_type": "execute_result"
    }
   ],
   "source": [
    "a='1 0.402734 0.242361 0.167969 0.118056\\n'\n",
    "a.replace('1 ','3')"
   ]
  },
  {
   "cell_type": "code",
   "execution_count": 75,
   "metadata": {},
   "outputs": [
    {
     "data": {
      "text/plain": [
       "'22'"
      ]
     },
     "execution_count": 75,
     "metadata": {},
     "output_type": "execute_result"
    }
   ],
   "source": [
    "a='22222'\n",
    "a[:2]"
   ]
  },
  {
   "cell_type": "code",
   "execution_count": 65,
   "metadata": {},
   "outputs": [],
   "source": [
    "os.makedirs('annotations_new/')"
   ]
  },
  {
   "cell_type": "code",
   "execution_count": 66,
   "metadata": {},
   "outputs": [],
   "source": [
    "for file in os.listdir('annotations'):\n",
    "    os.makedirs('annotations_new/'+file)"
   ]
  },
  {
   "cell_type": "code",
   "execution_count": 87,
   "metadata": {},
   "outputs": [
    {
     "data": {
      "text/plain": [
       "['.ipynb_checkpoints',\n",
       " 'annotations',\n",
       " 'annotations_new',\n",
       " 'Axis Bank',\n",
       " 'Cadbury',\n",
       " 'HDFC Life',\n",
       " 'Horlicks IN',\n",
       " 'images',\n",
       " \"Kellogg's India\",\n",
       " 'KFC India',\n",
       " 'KIT KAT',\n",
       " 'labels.txt',\n",
       " 'Lenovo India',\n",
       " 'Max Fashions',\n",
       " 'MountainDewIndia',\n",
       " 'pepsiindia',\n",
       " 'Tata Sky',\n",
       " 'ThumsUpOfficial',\n",
       " 'Untitled.ipynb']"
      ]
     },
     "execution_count": 87,
     "metadata": {},
     "output_type": "execute_result"
    }
   ],
   "source": [
    "os.listdir()"
   ]
  },
  {
   "cell_type": "code",
   "execution_count": 91,
   "metadata": {},
   "outputs": [],
   "source": [
    "lis=['Axis Bank',\n",
    " 'Cadbury',\n",
    " 'HDFC Life',\n",
    " 'Horlicks IN',\n",
    " \"Kellogg's India\",\n",
    " 'KFC India',\n",
    " 'KIT KAT',\n",
    " 'Lenovo India',\n",
    " 'Max Fashions',\n",
    " 'MountainDewIndia',\n",
    " 'pepsiindia',\n",
    " 'Tata Sky',\n",
    " 'ThumsUpOfficial']"
   ]
  },
  {
   "cell_type": "code",
   "execution_count": 94,
   "metadata": {},
   "outputs": [],
   "source": [
    "ann=os.listdir('annotations_new/')"
   ]
  },
  {
   "cell_type": "code",
   "execution_count": 126,
   "metadata": {},
   "outputs": [],
   "source": [
    "for i in lis:\n",
    "    os.makedirs('images/'+i)"
   ]
  },
  {
   "cell_type": "code",
   "execution_count": 128,
   "metadata": {},
   "outputs": [
    {
     "data": {
      "text/plain": [
       "['axis_bank',\n",
       " 'cadbury',\n",
       " 'hdfc_life',\n",
       " 'horlicks',\n",
       " 'kelloggs',\n",
       " 'kfc',\n",
       " 'kit_kat',\n",
       " 'lenovo',\n",
       " 'max',\n",
       " 'mountaindew',\n",
       " 'pepsiindia',\n",
       " 'tata_sky',\n",
       " 'thumsup']"
      ]
     },
     "execution_count": 128,
     "metadata": {},
     "output_type": "execute_result"
    }
   ],
   "source": [
    "ann"
   ]
  },
  {
   "cell_type": "code",
   "execution_count": 112,
   "metadata": {},
   "outputs": [
    {
     "data": {
      "text/plain": [
       "['Axis Bank',\n",
       " 'Cadbury',\n",
       " 'HDFC Life',\n",
       " 'Horlicks IN',\n",
       " \"Kellogg's India\",\n",
       " 'KFC India',\n",
       " 'KIT KAT',\n",
       " 'Lenovo India',\n",
       " 'Max Fashions',\n",
       " 'MountainDewIndia',\n",
       " 'pepsiindia',\n",
       " 'Tata Sky',\n",
       " 'ThumsUpOfficial']"
      ]
     },
     "execution_count": 112,
     "metadata": {},
     "output_type": "execute_result"
    }
   ],
   "source": [
    "lis"
   ]
  },
  {
   "cell_type": "code",
   "execution_count": 95,
   "metadata": {},
   "outputs": [],
   "source": [
    "def intersection(lst1, lst2): \n",
    "    lst3 = [value for value in lst1 if value in lst2] \n",
    "    return lst3"
   ]
  },
  {
   "cell_type": "code",
   "execution_count": 96,
   "metadata": {},
   "outputs": [
    {
     "name": "stdout",
     "output_type": "stream",
     "text": [
      "[9, 11, 26, 28]\n"
     ]
    }
   ],
   "source": [
    "lst1 = [4, 9, 1, 17, 11, 26, 28, 54, 69] \n",
    "lst2 = [9, 9, 74, 21, 45, 11, 63, 28, 26] \n",
    "print(intersection(lst1, lst2))"
   ]
  },
  {
   "cell_type": "code",
   "execution_count": 127,
   "metadata": {},
   "outputs": [
    {
     "name": "stdout",
     "output_type": "stream",
     "text": [
      "Axis Bank axis_bank\n",
      "45\n",
      "3. axisbankjpg-1538374912305 Axis Bank\n",
      "classes Axis Bank\n",
      "Cadbury cadbury\n",
      "44\n",
      "43. 172465425 Cadbury\n",
      "47. 0000143_cadbury-dairy-milk-chocolate_625 Cadbury\n",
      "classes Cadbury\n",
      "HDFC Life hdfc_life\n",
      "35\n",
      "39. hdfc-life-insurance-customer-care--new-delhi-delhi-customer-care-services-d9urm HDFC Life\n",
      "8. dc-cover-iilte000bjeh7clp998qsmvu45-20161017200937.medi HDFC Life\n",
      "classes HDFC Life\n",
      "Horlicks IN horlicks\n",
      "42\n",
      "48. shutterstock_1062686024 Horlicks IN\n",
      "classes Horlicks IN\n",
      "Kellogg's India kelloggs\n",
      "35\n",
      "16. cornflakes-kellogg-s-475-original-imaepyqmzg2unp6t Kellogg's India\n",
      "41. 575-corn-flakes-real-strawberry-box-kellogg-s-original-imafba2xvpsm8zkt Kellogg's India\n",
      "classes Kellogg's India\n",
      "KFC India kfc\n",
      "32\n",
      "classes KFC India\n",
      "KIT KAT kit_kat\n",
      "40\n",
      "23. brb-04-18-kit-kats-group-shot KIT KAT\n",
      "28. 00034000176128_cf___jpeg_3 KIT KAT\n",
      "classes KIT KAT\n",
      "Lenovo India lenovo\n",
      "20\n",
      "18. 152e6945289f3194a1c620a1821032266d7797a4 Lenovo India\n",
      "23. cd80b1eb656d2e1ee685f32d14d0a9e570f08057 Lenovo India\n",
      "40. lenovo-ip-320-laptop-original-imaf49pfduqmxqsf Lenovo India\n",
      "43. 3ae0683e341467ffcedede80ee43c73827ebd256 Lenovo India\n",
      "45. 932015120047pm_635_lenovo_vibe_p1m Lenovo India\n",
      "50. 1bdef4927c04d3674fa22e88df97ca754db8f83e Lenovo India\n",
      "6. 0f2972a2b38eb1d6639b6cda0cb2a964e25d1cae Lenovo India\n",
      "classes Lenovo India\n",
      "Max Fashions max\n",
      "25\n",
      "22. -max-fashions-membuka-2-gerainya-di-indonesia Max Fashions\n",
      "classes Max Fashions\n",
      "MountainDewIndia mountaindew\n",
      "25\n",
      "classes MountainDewIndia\n",
      "pepsiindia pepsiindia\n",
      "41\n",
      "classes pepsiindia\n",
      "Tata Sky tata_sky\n",
      "41\n",
      "13. dc-cover-hlak48781lhbcf3l74njvkjv10-20181004011129.medi Tata Sky\n",
      "21. tata-sky-original-universal-original-imaehha3zhhsxbwh Tata Sky\n",
      "classes Tata Sky\n",
      "ThumsUpOfficial thumsup\n",
      "31\n",
      "2. r09cgqcw ThumsUpOfficial\n",
      "classes ThumsUpOfficial\n"
     ]
    }
   ],
   "source": [
    "import shutil\n",
    "for file,anno in zip(lis,ann):\n",
    "    print(file,anno)\n",
    "    imgs=[i[:-4] for i in os.listdir(file) if 'jpeg' not in i.lower()]\n",
    "    imgs2=[i[:5] for i in os.listdir(file) if 'jpeg' in i.lower()]\n",
    "    exts=[i[-4:] for i in os.listdir(file) if 'jpeg' not in i.lower()]\n",
    "    exts2=[i[-5:] for i in os.listdir(file) if 'jpeg' in i.lower()]\n",
    "    exts=exts+exts2\n",
    "    imgs=imgs+imgs2\n",
    "    d={}\n",
    "    for i,j in zip(imgs,exts):\n",
    "        d[i]=j\n",
    "    annos=[i[:-4] for i in os.listdir('annotations_new/'+anno)]\n",
    "#     imgs_to_copy=intersection(imgs,annos)\n",
    "#     print(set(annos)-set(imgs_to_copy))\n",
    "#     print(set(imgs)-set(imgs_to_copy))\n",
    "#     print(len(imgs_to_copy))\n",
    "    print(len(annos))\n",
    "    for f in annos:\n",
    "        try:\n",
    "            shutil.copy(file+'/'+f+d[f],'images/'+file+'/'+f+d[f])\n",
    "        except:\n",
    "            print(f,file,d[f])"
   ]
  },
  {
   "cell_type": "code",
   "execution_count": null,
   "metadata": {},
   "outputs": [],
   "source": []
  }
 ],
 "metadata": {
  "kernelspec": {
   "display_name": "Python 3",
   "language": "python",
   "name": "python3"
  },
  "language_info": {
   "codemirror_mode": {
    "name": "ipython",
    "version": 3
   },
   "file_extension": ".py",
   "mimetype": "text/x-python",
   "name": "python",
   "nbconvert_exporter": "python",
   "pygments_lexer": "ipython3",
   "version": "3.7.1"
  }
 },
 "nbformat": 4,
 "nbformat_minor": 2
}
